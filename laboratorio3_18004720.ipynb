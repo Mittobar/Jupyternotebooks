{
 "cells": [
  {
   "cell_type": "code",
   "execution_count": 1,
   "id": "4b290483-079f-428c-8dc0-1e8e33d68c0e",
   "metadata": {},
   "outputs": [
    {
     "name": "stdin",
     "output_type": "stream",
     "text": [
      "Ingrese un número decimal:  5\n"
     ]
    },
    {
     "name": "stdout",
     "output_type": "stream",
     "text": [
      "El número 5.0 en binario es: 101.\n"
     ]
    }
   ],
   "source": [
    "#1. Cree un procedimiento en Python dado un numero entero en decimal despliegue su representacion en numero binario.\n",
    "def Convert_binario(num):\n",
    "    # Parte entera\n",
    "    entero = int(num) # convertimos el dato decimal a entero\n",
    "    binario_entero = bin(entero)[2:]  # Convertimos la parte entera a binario usando bin()\n",
    "\n",
    "    # Parte fraccionaria\n",
    "    fraccion = num - entero #Restamos el entero con el decimal\n",
    "    binario_fraccion = \".\"\n",
    "    \n",
    "    # Continuamos con la conversión de la parte decimal\n",
    "    while fraccion > 0:\n",
    "        fraccion *= 2\n",
    "        bit = int(fraccion)\n",
    "        binario_fraccion += str(bit)\n",
    "        fraccion -= bit\n",
    "        if len(binario_fraccion) > 5:  # Limitamos la cantidad de bits para evitar ciclos infinitos\n",
    "            break\n",
    "\n",
    "    return binario_entero + binario_fraccion\n",
    "\n",
    "# Prueba\n",
    "numero = float(input(\"Ingrese un número decimal: \"))\n",
    "print(f\"El número {numero} en binario es: {Convert_binario(numero)}\")"
   ]
  },
  {
   "cell_type": "code",
   "execution_count": 2,
   "id": "fd41c489-4458-4fcc-aaa4-1adc3dbb0d26",
   "metadata": {},
   "outputs": [
    {
     "name": "stdin",
     "output_type": "stream",
     "text": [
      "Ingrese un número entero:  4\n"
     ]
    },
    {
     "name": "stdout",
     "output_type": "stream",
     "text": [
      "4 no es primo.\n"
     ]
    }
   ],
   "source": [
    "#2. Desarrolle en Python una funcion que devuelva verdadero si un numero entero que recibe como parametro es primo \n",
    "#y devuelva falso en el caso contrario.\n",
    "\n",
    "def es_primo(num): #Defincion de la funcion\n",
    "    # inicio de la validación numero primo\n",
    "    if num <= 1: # si es menor o iguala 1 es primo\n",
    "        return False\n",
    "    for i in range(2, int(num ** 0.5) + 1): #validacion si posee mas de dos divisibles\n",
    "        if num % i == 0:\n",
    "            return False\n",
    "    return True\n",
    "\n",
    "# Ingreso de numeros enteros\n",
    "numero = int(input(\"Ingrese un número entero: \"))\n",
    "if es_primo(numero): # Impresión de resultado si es primo o no\n",
    "    print(f\"{numero} es primo.\")\n",
    "else:\n",
    "    print(f\"{numero} no es primo.\")"
   ]
  },
  {
   "cell_type": "code",
   "execution_count": 3,
   "id": "e895ace6-4788-4305-8b3a-eeda09780f17",
   "metadata": {},
   "outputs": [
    {
     "name": "stdin",
     "output_type": "stream",
     "text": [
      "Ingrese una lista de números separados por espacios:  4 2 3 7\n"
     ]
    },
    {
     "name": "stdout",
     "output_type": "stream",
     "text": [
      "La desviación estándar es: 1.8708286933869707\n"
     ]
    }
   ],
   "source": [
    "#3. Haga un programa en Python que dada una lista de n numeros, calcule la desviacion estandar del conjunto de numeros, \n",
    "#para este ejercicio no puede utilizar ninguna funcion que resuelva el problema.\n",
    "def desv_estandar(lista): #Definicion de funcion\n",
    "    n = len(lista) #Cuenta la cantidad de numeros ingresados\n",
    "    if n == 0:     #Valida si la cantidad de datos esta vacia, devuelve cero\n",
    "        return 0\n",
    "    media = sum(lista) / n\n",
    "    suma_cuadrados = sum((x - media) ** 2 for x in lista)\n",
    "    return (suma_cuadrados / n) ** 0.5\n",
    "\n",
    "# Ingreso de numeros\n",
    "\n",
    "numeros = list(map(int, input(\"Ingrese una lista de números separados por espacios: \").split())) #.split nos ayuda\n",
    "                                                                                                 # a poder ingresar numeros\n",
    "                                                                                                 # separados por espacio\n",
    "print(f\"La desviación estándar es: {desv_estandar(numeros)}\")\n"
   ]
  },
  {
   "cell_type": "code",
   "execution_count": 4,
   "id": "a56b82d7-58f6-44dc-8f6e-48e50f416d14",
   "metadata": {},
   "outputs": [
    {
     "name": "stdin",
     "output_type": "stream",
     "text": [
      "Ingrese una lista de números separados por espacios:  4 2 3 7 8 9\n"
     ]
    },
    {
     "name": "stdout",
     "output_type": "stream",
     "text": [
      "Lista ordenada: [2, 3, 4, 7, 8, 9]\n"
     ]
    }
   ],
   "source": [
    "#4. Desarrolle en Python una funcion que dado un arreglo de corra el algoritmo de ordenamiento\n",
    "#burbuja y devuelva un nuevo arreglo ordenado. Posteriormente cree una funci\u0013on main para\n",
    "#probar su funcion.\n",
    "\n",
    "def Orden_burbuja(arreglo): #Declaracion de funcion para ordenamiento burbuja\n",
    "    n = len(arreglo)   # Conteo de cantidad de datos ingresados\n",
    "    for i in range(n): #ciclo for de 0 a cantidad de datos ingresados\n",
    "        for j in range(0, n-i-1): #Inicio de ciclo para la comparacion del numero menor\n",
    "            if arreglo[j] > arreglo[j+1]:\n",
    "                arreglo[j], arreglo[j+1] = arreglo[j+1], arreglo[j] #Inserta el numero menor al incio\n",
    "    return arreglo\n",
    "\n",
    "# Función main para realizar las pruebas\n",
    "def main():\n",
    "    lista = list(map(int, input(\"Ingrese una lista de números separados por espacios: \").split()))\n",
    "    print(f\"Lista ordenada: {Orden_burbuja(lista)}\")\n",
    "\n",
    "main() #Fin del main"
   ]
  },
  {
   "cell_type": "code",
   "execution_count": 5,
   "id": "91fcaa7d-b8da-41a8-a713-801f0aa199c9",
   "metadata": {},
   "outputs": [
    {
     "name": "stdin",
     "output_type": "stream",
     "text": [
      "Ingrese una lista de datos separados por espacios:  3 2 4 6 7 \n"
     ]
    },
    {
     "name": "stdout",
     "output_type": "stream",
     "text": [
      "Tupla convertida a string: 32467\n"
     ]
    }
   ],
   "source": [
    "#5. Escriba una funcion en Python que dada una tupla de elementos (numeros o letras) esta se\n",
    "#convierta a un string. Tomar nota del siguiente ejemplo:\n",
    "#Si la entrada fuera: (10, 20, 40, 5, 70)\n",
    "#La salida debera ser: 102040570\n",
    "\n",
    "def conversion_a_string(tupla): #Definicion de la funcion para la conversion\n",
    "    return ''.join(map(str, tupla)) \n",
    "    #Colocamos el separador '' seguido de la funcion join el cual nos realiza la union \n",
    "    #mientras que la funcion map convierte todos lo que trae la variable tupla a str\n",
    "\n",
    "# Ingreso de datos\n",
    "entrada = list(map(str, input(\"Ingrese una lista de datos separados por espacios: \").split()))\n",
    "print(f\"Tupla convertida a string: {conversion_a_string(entrada)}\")"
   ]
  },
  {
   "cell_type": "code",
   "execution_count": 6,
   "id": "44cafe05-82e9-4e43-994b-e460579f42cd",
   "metadata": {},
   "outputs": [
    {
     "name": "stdout",
     "output_type": "stream",
     "text": [
      "Lista sin tuplas vacías: [('X',), ('a', 'b'), ('a', 'b', 'c'), 'd']\n"
     ]
    }
   ],
   "source": [
    "#6.Cree un programa en Python que dada una lista de tuplas, elimine las tuplas que est\u0013an vac\u0013\u0010as.\n",
    "#Tomar nota del siguiente ejemplo:\n",
    "#Si la lista fuera: [(), (), ('X',), ('a', 'b'), ('a', 'b', 'c'), ('d')]\n",
    "#El resultado debera ser: [('X'), ('a', 'b'), ('a', 'b', 'c'), 'd']\n",
    "\n",
    "def elimina_tuplas_vacias(lista): #Defincion de funcion para eliminacion de tuplas\n",
    "    return [tupla for tupla in lista if tupla] # retorna las tuplas desde la uno hasta la cantidad de \n",
    "                                               # datos mientras tupla no sea vacia\n",
    "# Ingreso de datos manuales\n",
    "lista = [(), (), ('X',), ('a', 'b'), ('a', 'b', 'c'), ('d')]\n",
    "print(f\"Lista sin tuplas vacías: {elimina_tuplas_vacias(lista)}\")"
   ]
  },
  {
   "cell_type": "code",
   "execution_count": 7,
   "id": "143c95f5-ff07-4748-9183-d23564f21811",
   "metadata": {},
   "outputs": [
    {
     "name": "stdout",
     "output_type": "stream",
     "text": [
      "Promedio de cada tupla: (10.5, 44.0, 58.0)\n"
     ]
    }
   ],
   "source": [
    "#7. Cree una funcion en Python que dada una tupla de tuplas con numeros, produzca una tupla\n",
    "#con el promedio de cada tupla individual. Tomar nota del siguiente ejemplo:\n",
    "#Si la tupla de entrada fuera: ((10, 10, 10, 12), (30, 45, 56, 45), (81, 80, 39, 32))\n",
    "#El resultado debera ser: (10.5, 44, 58)\n",
    "\n",
    "def promedio(tupla): #Definicion de funcion para promedio\n",
    "    return tuple(sum(t) / len(t) for t in tupla)\n",
    "    # La funcion tuple nos generara una tupla()\n",
    "    # Con la siguiente informacion: sumatoria de datos divido la cantidad de datos desde t hasta tupla \n",
    "\n",
    "# Datos ingresados manualmente\n",
    "entrada = ((10, 10, 10, 12), (30, 45, 56, 45), (81, 80, 39, 32))\n",
    "print(f\"Promedio de cada tupla: {promedio(entrada)}\")"
   ]
  },
  {
   "cell_type": "code",
   "execution_count": 8,
   "id": "ce03e8bc-fce6-4e27-982a-6b0be47b92f0",
   "metadata": {},
   "outputs": [
    {
     "name": "stdout",
     "output_type": "stream",
     "text": [
      "1984 por George Orwell, 328 páginas. Estado: Leído\n"
     ]
    }
   ],
   "source": [
    "#8. El objetivo es crear una representacion de un libro usando programacion orientada a objetos.\n",
    "#Debes denir una clase llamada Libro que tenga atributos como el titulo, el autor, el numero\n",
    "#de paginas y un indicador de si el libro ha sido leido o no. Ademas, debes implementar metodos\n",
    "#para:\n",
    "#Inicializar un nuevo libro con su informacion.\n",
    "#Marcar un libro como ledo.\n",
    "#Producir una descripcion legible del libro que incluya todos sus detalles.\n",
    "\n",
    "class Libro: #Definicion de la clase Libro\n",
    "    def __init__(self, titulo, autor, num_paginas): #Definimos los atributos del objeto libro\n",
    "        #Se asignan valores a los atributos = valores\n",
    "        self.titulo = titulo \n",
    "        self.autor = autor\n",
    "        self.num_paginas = num_paginas\n",
    "        self.leido = False #inicializamos la variable leido = False ya que el libro no ha sido leido\n",
    "\n",
    "    def Cambio_leido(self): #Metodo llamado Cambio_leido para la definicion del comportamiento Leido\n",
    "        self.leido = True #Cambiamos el atributo leido a valor True\n",
    "\n",
    "    def descripcion(self): #Metodo llamado descripcion del libro\n",
    "        estado = \"Leído\" if self.leido else \"No leído\" # Guardamos en la variableestado = Leido si self.leido es True\n",
    "        #mostrara Leido caso contrario No Leido\n",
    "        return f\"{self.titulo} por {self.autor}, {self.num_paginas} páginas. Estado: {estado}\"\n",
    "\n",
    "# Datos del Libro\n",
    "libro1 = Libro(\"1984\", \"George Orwell\", 328)\n",
    "libro1.Cambio_leido()\n",
    "print(libro1.descripcion())"
   ]
  },
  {
   "cell_type": "code",
   "execution_count": 9,
   "id": "09cf53a8-0040-45f8-87d8-b2d3f3bc70f8",
   "metadata": {},
   "outputs": [
    {
     "name": "stdout",
     "output_type": "stream",
     "text": [
      "Área: 78.54\n",
      "Circunferencia: 31.42\n"
     ]
    }
   ],
   "source": [
    "#9. Cree una clase llamada Circulo con un atributo para el radio del circulo. Luego, implementaras\n",
    "#metodos para:\n",
    "#Inicializar un nuevo circulo con su radio.\n",
    "#Calcular el area del circulo.\n",
    "#Calcular la circunferencia del circulo.\n",
    "\n",
    "import math as m   #Dimportacion de libreria math para funciones matematicas\n",
    "\n",
    "class Circulo: #definicion de funcion circulo\n",
    "    def __init__(self, radio):\n",
    "        self.radio = radio\n",
    "\n",
    "    def area(self):\n",
    "        return m.pi * (self.radio ** 2)   #Formula area\n",
    "\n",
    "    def circunferencia(self):\n",
    "        return 2 * m.pi * self.radio  # Formula circunferencia\n",
    "\n",
    "# Ingreso de datos manuales\n",
    "circulo = Circulo(5)\n",
    "print(f\"Área: {circulo.area():.2f}\")\n",
    "print(f\"Circunferencia: {circulo.circunferencia():.2f}\")\n"
   ]
  },
  {
   "cell_type": "code",
   "execution_count": null,
   "id": "e3cab162-71cd-4edc-88d8-8767d480a5ae",
   "metadata": {},
   "outputs": [],
   "source": []
  }
 ],
 "metadata": {
  "kernelspec": {
   "display_name": "Python 3 (ipykernel)",
   "language": "python",
   "name": "python3"
  },
  "language_info": {
   "codemirror_mode": {
    "name": "ipython",
    "version": 3
   },
   "file_extension": ".py",
   "mimetype": "text/x-python",
   "name": "python",
   "nbconvert_exporter": "python",
   "pygments_lexer": "ipython3",
   "version": "3.12.3"
  }
 },
 "nbformat": 4,
 "nbformat_minor": 5
}
